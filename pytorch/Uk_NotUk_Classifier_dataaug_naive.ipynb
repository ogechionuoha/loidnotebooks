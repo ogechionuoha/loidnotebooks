{
 "cells": [
  {
   "cell_type": "code",
   "execution_count": 2,
   "metadata": {
    "colab": {
     "base_uri": "https://localhost:8080/"
    },
    "id": "0hnk5AItz3Gh",
    "outputId": "ec604744-d08e-48d9-f831-4e7299dc32d9"
   },
   "outputs": [],
   "source": [
    "#set up working dirs\n",
    "model_folder = './model_checkpoints'\n",
    "results_folder = './results/week10/'"
   ]
  },
  {
   "cell_type": "code",
   "execution_count": 3,
   "metadata": {
    "id": "vaz18YItk82y"
   },
   "outputs": [],
   "source": [
    "#imports\n",
    "import os\n",
    "import torch\n",
    "import torchvision\n",
    "import numpy as np\n",
    "import matplotlib.pyplot as plt\n",
    "from sklearn.metrics import roc_curve, roc_auc_score, auc, precision_recall_fscore_support, confusion_matrix, accuracy_score\n",
    "from torchvision import transforms \n",
    "from torchvision.models import resnet50\n",
    "from torch.utils.data import DataLoader\n",
    "from torchvision.datasets import ImageFolder\n",
    "from torch import nn, optim"
   ]
  },
  {
   "cell_type": "code",
   "execution_count": 4,
   "metadata": {
    "id": "XrRSLZ72mS4p"
   },
   "outputs": [],
   "source": [
    "#GET DATA\n",
    "train_datafolder = '../../images/old_uk_not_uk/train'\n",
    "#valid_datafolder = '../../images//valid'\n",
    "#test_datafolder = '../../images/dataset/test'\n",
    "\n",
    "transformations = transforms.Compose([transforms.Resize((224, 224)), \n",
    "                                transforms.ToTensor(),\n",
    "                                transforms.Normalize(mean=[0.485, 0.456, 0.406], std=[0.229, 0.224, 0.225])])\n",
    "full_dataset = ImageFolder(train_datafolder,transform=transformations) \n",
    "#valid_dataset = ImageFolder(valid_datafolder,transform=transformations) "
   ]
  },
  {
   "cell_type": "code",
   "execution_count": 5,
   "metadata": {},
   "outputs": [
    {
     "data": {
      "text/plain": [
       "['not_uk', 'uk']"
      ]
     },
     "execution_count": 5,
     "metadata": {},
     "output_type": "execute_result"
    }
   ],
   "source": [
    "full_dataset.classes"
   ]
  },
  {
   "cell_type": "code",
   "execution_count": 6,
   "metadata": {},
   "outputs": [
    {
     "data": {
      "text/plain": [
       "(978827, 978827, 1)"
      ]
     },
     "execution_count": 6,
     "metadata": {},
     "output_type": "execute_result"
    }
   ],
   "source": [
    "import math\n",
    "#split training set into training and validation\n",
    "from torch.utils.data.sampler import SubsetRandomSampler\n",
    "\n",
    "#get indices and shuffle\n",
    "tr_0_ind = np.where(np.array(full_dataset.targets) == 0)[0]\n",
    "tr_1_ind = np.where(np.array(full_dataset.targets) == 1)[0]\n",
    "\n",
    "tr_1_ind = tr_1_ind.tolist()\n",
    "tr_1_ind = tr_1_ind*math.ceil(len(tr_0_ind)/len(tr_1_ind))\n",
    "\n",
    "surplus = len(tr_1_ind)-len(tr_0_ind)\n",
    "tr_1_ind = np.array(tr_1_ind[surplus:])\n",
    "\n",
    "len(tr_0_ind), len(tr_1_ind), math.floor(len(tr_0_ind)/len(tr_1_ind))"
   ]
  },
  {
   "cell_type": "code",
   "execution_count": 7,
   "metadata": {},
   "outputs": [],
   "source": [
    "np.random.shuffle(tr_0_ind)\n",
    "np.random.shuffle(tr_1_ind)\n",
    "\n",
    "tr, val = int(0.7*len(tr_0_ind)), int(0.2*len(tr_0_ind))\n",
    "train_indices = np.concatenate((tr_0_ind[:tr], tr_1_ind[:tr]))\n",
    "valid_indices = np.concatenate((tr_0_ind[tr:tr+val], tr_1_ind[tr:tr+val]))\n",
    "test_indices = np.concatenate((tr_0_ind[tr+val:], tr_1_ind[tr+val:]))\n",
    "\n",
    "'''\n",
    "val_0_ind = np.where(np.array(valid_dataset.targets) == 0)[0]\n",
    "val_1_ind = np.where(np.array(valid_dataset.targets) == 1)[0]\n",
    "np.random.shuffle(val_0_ind)\n",
    "np.random.shuffle(val_1_ind)\n",
    "val_min = np.min([len(val_0_ind), len(val_1_ind)])\n",
    "valid_indices = np.concatenate((val_0_ind[:val_min], val_1_ind[:val_min]))\n",
    "'''\n",
    "#shuffle the indices in place\n",
    "np.random.shuffle(train_indices)\n",
    "np.random.shuffle(valid_indices)\n",
    "np.random.shuffle(test_indices)\n",
    "\n",
    "#create samplers\n",
    "train_sampler = SubsetRandomSampler(train_indices)\n",
    "valid_sampler = SubsetRandomSampler(valid_indices)\n",
    "test_sampler = SubsetRandomSampler(test_indices)"
   ]
  },
  {
   "cell_type": "code",
   "execution_count": 8,
   "metadata": {},
   "outputs": [
    {
     "data": {
      "text/plain": [
       "(1370356, 391530, 195768)"
      ]
     },
     "execution_count": 8,
     "metadata": {},
     "output_type": "execute_result"
    }
   ],
   "source": [
    "len(train_indices), len(valid_indices), len(test_indices)"
   ]
  },
  {
   "cell_type": "code",
   "execution_count": 9,
   "metadata": {
    "id": "jYSwkbECp4Ln"
   },
   "outputs": [],
   "source": [
    "#Dataloaders\n",
    "train_loader = DataLoader(full_dataset, batch_size=128, sampler=train_sampler)\n",
    "valid_loader = DataLoader(full_dataset, batch_size=128, sampler=valid_sampler)\n",
    "test_loader = DataLoader(full_dataset, batch_size=128, sampler=test_sampler)"
   ]
  },
  {
   "cell_type": "code",
   "execution_count": 10,
   "metadata": {},
   "outputs": [
    {
     "data": {
      "text/plain": [
       "(10706, 3059, 1530)"
      ]
     },
     "execution_count": 10,
     "metadata": {},
     "output_type": "execute_result"
    }
   ],
   "source": [
    "len(train_loader), len(valid_loader), len(test_loader)"
   ]
  },
  {
   "cell_type": "code",
   "execution_count": 11,
   "metadata": {
    "id": "t6El-Qdiwq4j"
   },
   "outputs": [
    {
     "name": "stdout",
     "output_type": "stream",
     "text": [
      "Device in use: cuda:0\n"
     ]
    }
   ],
   "source": [
    "#device settings\n",
    "device = torch.device(\"cuda:0\" if torch.cuda.is_available() else \"cpu\")\n",
    "print(f'Device in use: {device}')"
   ]
  },
  {
   "cell_type": "code",
   "execution_count": 12,
   "metadata": {
    "colab": {
     "base_uri": "https://localhost:8080/"
    },
    "id": "uCBmVQGKrS5X",
    "outputId": "c8abd65d-4d33-4a2b-f9ca-c22bcfddf544"
   },
   "outputs": [
    {
     "name": "stdout",
     "output_type": "stream",
     "text": [
      "Freezing params...\n"
     ]
    }
   ],
   "source": [
    "#Model\n",
    "\n",
    "class myResNet50(nn.Module):\n",
    "  def __init__(self, should_hook=False):\n",
    "    super(myResNet50, self).__init__()\n",
    "\n",
    "    self.should_hook = should_hook\n",
    "\n",
    "    pretrainedmodel = resnet50(pretrained=True)\n",
    "    \n",
    "    #freezes weights\n",
    "    if not self.should_hook:\n",
    "      print(\"Freezing params...\")\n",
    "      for param in pretrainedmodel.parameters():\n",
    "        param.requires_grad = False\n",
    "\n",
    "    self.base = nn.Sequential(*list(pretrainedmodel.children())[:-2])\n",
    "\n",
    "    self.avgpool = pretrainedmodel.avgpool\n",
    "\n",
    "    #final layer\n",
    "    infeatures = pretrainedmodel.fc.in_features\n",
    "    self.fc = nn.Linear(infeatures, 2)\n",
    "\n",
    "    # placeholder for the gradients\n",
    "    self.gradients = None\n",
    "    \n",
    "  # method for the gradient extraction\n",
    "  def get_activations_gradient(self):\n",
    "    return self.gradients\n",
    "  \n",
    "  # method for the activation exctraction\n",
    "  def get_activations(self, x):\n",
    "    return self.base(x)\n",
    "\n",
    "  # hook for the gradients of the activations\n",
    "  def activations_hook(self, grad):\n",
    "    self.gradients = grad\n",
    "\n",
    "\n",
    "  def forward(self, x):\n",
    "    #x.requires_grad = True\n",
    "    x = self.base(x)\n",
    "    \n",
    "    # register the hook\n",
    "    if self.should_hook:\n",
    "      h = x.register_hook(self.activations_hook)\n",
    "    \n",
    "    # apply the remaining pooling\n",
    "    x = self.avgpool(x)\n",
    "    x = x.view(x.size(0), -1)\n",
    "    out = self.fc(x)\n",
    "    return out\n",
    "\n",
    "\n",
    "model = myResNet50(should_hook=False)\n",
    "model.to(device)\n",
    "#print(model)\n",
    "\n",
    "model_name = 'uk_notuk_classifier_aug_naive'"
   ]
  },
  {
   "cell_type": "code",
   "execution_count": 13,
   "metadata": {
    "id": "yWRn-ewEsKTB"
   },
   "outputs": [],
   "source": [
    "#model settings\n",
    "criterion = nn.CrossEntropyLoss()\n",
    "\n",
    "# Observe that all parameters are being optimized\n",
    "optimizer = optim.Adam(model.fc.parameters(), lr=0.001)\n"
   ]
  },
  {
   "cell_type": "code",
   "execution_count": null,
   "metadata": {
    "colab": {
     "base_uri": "https://localhost:8080/"
    },
    "id": "PueO5A25xWgg",
    "outputId": "89ffc6a2-b2c8-49a1-e538-da3bc596075a"
   },
   "outputs": [
    {
     "name": "stdout",
     "output_type": "stream",
     "text": [
      "Epoch: 1 \tTraining Loss: 0.591957 \tValidation Loss: 0.566076\n",
      "Validation loss decreased (inf --> 0.566076).  Saving updated model ...\n",
      "Epoch: 2 \tTraining Loss: 0.573197 \tValidation Loss: 0.574022\n",
      "Epoch: 3 \tTraining Loss: 0.570199 \tValidation Loss: 0.559239\n",
      "Validation loss decreased (0.566076 --> 0.559239).  Saving updated model ...\n",
      "Epoch: 4 \tTraining Loss: 0.569195 \tValidation Loss: 0.564711\n",
      "Epoch: 5 \tTraining Loss: 0.568998 \tValidation Loss: 0.561104\n",
      "Epoch: 6 \tTraining Loss: 0.568580 \tValidation Loss: 0.571621\n",
      "Epoch: 7 \tTraining Loss: 0.568914 \tValidation Loss: 0.571957\n",
      "Epoch: 8 \tTraining Loss: 0.567589 \tValidation Loss: 0.556087\n",
      "Validation loss decreased (0.559239 --> 0.556087).  Saving updated model ...\n",
      "Epoch: 9 \tTraining Loss: 0.568559 \tValidation Loss: 0.556180\n",
      "Epoch: 10 \tTraining Loss: 0.569062 \tValidation Loss: 0.578442\n"
     ]
    }
   ],
   "source": [
    "#train network\n",
    "\n",
    "# number of epochs to train the model\n",
    "n_epochs = 90\n",
    "\n",
    "valid_loss_min = np.Inf # track change in validation loss\n",
    "\n",
    "#result files\n",
    "\n",
    "train_results = results_folder+model_name+'_tr.csv'\n",
    "val_results = results_folder+model_name+'_val.csv'\n",
    "\n",
    "with open(train_results, 'a') as train_result:\n",
    "    header = \",\".join(['loss', 'accuracy', 'tn', 'fp', 'fn', 'tp', 'precision_0', 'precision_1', 'recall_0', 'recall_1', 'f1_0', 'f1_1', 'count_0', 'count_1','auroc','\\n'])\n",
    "    train_result.write(header)\n",
    "\n",
    "with open(val_results, 'a') as val_result:\n",
    "    header = \",\".join(['loss', 'accuracy', 'tn', 'fp', 'fn', 'tp', 'precision_0', 'precision_1', 'recall_0', 'recall_1', 'f1_0', 'f1_1', 'count_0', 'count_1','auroc','saved','\\n'])\n",
    "    val_result.write(header)\n",
    "\n",
    "for epoch in range(1, n_epochs+1):\n",
    "\n",
    "    # keep track of training and validation loss\n",
    "    train_loss = 0.0\n",
    "    valid_loss = 0.0\n",
    "\n",
    "    # keep track of training and validation outputs\n",
    "    tr_y_pred, tr_y_target = np.array([]), np.array([])\n",
    "    val_y_pred, val_y_target = np.array([]), np.array([])\n",
    "\n",
    "    \n",
    "    ###################\n",
    "    # train the model #\n",
    "    ###################\n",
    "    model.train()\n",
    "    for data, target in train_loader:\n",
    "        data, target = data.to(device), target.to(device)\n",
    "        # clear the gradients of all optimized variables\n",
    "        optimizer.zero_grad()\n",
    "        # forward pass: compute predicted outputs by passing inputs to the model\n",
    "        output = model.forward(data)\n",
    "        # calculate the batch loss\n",
    "        loss = criterion(output, target)\n",
    "        # backward pass: compute gradient of the loss with respect to model parameters\n",
    "        loss.backward()\n",
    "        # perform a single optimization step (parameter update)\n",
    "        optimizer.step()\n",
    "        # update training loss\n",
    "        train_loss += loss.item()*data.size(0)\n",
    "\n",
    "        #save data for metrics\n",
    "        predictions = torch.exp(output)\n",
    "      \n",
    "        _, top_classes = predictions.topk(1,dim=1)\n",
    "\n",
    "        tr_y_target = np.concatenate((tr_y_target,target.cpu()))\n",
    "        tr_y_pred = np.concatenate((tr_y_pred,top_classes.squeeze(1).cpu()))\n",
    "        \n",
    "    ######################    \n",
    "    # validate the model #\n",
    "    ######################\n",
    "    model.eval()\n",
    "    for data, target in valid_loader:\n",
    "        data, target = data.to(device), target.to(device)\n",
    "        # forward pass: compute predicted outputs by passing inputs to the model\n",
    "        output = model.forward(data)\n",
    "        # calculate the batch loss\n",
    "        loss = criterion(output, target)\n",
    "        # update average validation loss \n",
    "        valid_loss += loss.item()*data.size(0)\n",
    "\n",
    "        #save data for metrics\n",
    "        predictions = torch.exp(output)\n",
    "      \n",
    "        _, top_classes = predictions.topk(1,dim=1)\n",
    "\n",
    "        val_y_target = np.concatenate((val_y_target,target.cpu()))\n",
    "        val_y_pred = np.concatenate((val_y_pred,top_classes.squeeze(1).cpu()))\n",
    "    \n",
    "    # calculate average losses\n",
    "    train_loss = train_loss/len(train_loader.sampler)\n",
    "    valid_loss = valid_loss/len(valid_loader.sampler)\n",
    "\n",
    "    # calulate metrics\n",
    "    with open(train_results, 'a') as train_result:\n",
    "      a, b = confusion_matrix(tr_y_target, tr_y_pred)\n",
    "      tn, fp, fn, tp = *a, *b\n",
    "      precision, recall, f1, support = precision_recall_fscore_support(tr_y_target, tr_y_pred)\n",
    "      precision_0, precision_1, recall_0, recall_1, f1_0, f1_1, count_0, count_1 = *precision, *recall, *f1, *support\n",
    "      accuracy = accuracy_score(tr_y_target, tr_y_pred)\n",
    "      auroc = roc_auc_score(tr_y_target, tr_y_pred)\n",
    "      line = \",\".join([str(train_loss), str(accuracy), str(tn), str(fp), str(fn), str(tp), str(precision_0), str(precision_1), str(recall_0), str(recall_1), str(f1_0), str(f1_1), str(count_0), str(count_1), str(auroc), '\\n'])\n",
    "      train_result.write(line)\n",
    "\n",
    "    with open(val_results, 'a') as val_result:\n",
    "      a, b = confusion_matrix(val_y_target, val_y_pred)\n",
    "      tn, fp, fn, tp = *a, *b\n",
    "      precision, recall, f1, support = precision_recall_fscore_support(val_y_target, val_y_pred)\n",
    "      precision_0, precision_1, recall_0, recall_1, f1_0, f1_1, count_0, count_1 = *precision, *recall, *f1, *support\n",
    "      accuracy = accuracy_score(val_y_target, val_y_pred)\n",
    "      auroc = roc_auc_score(val_y_target, val_y_pred)\n",
    "      line = \",\".join([str(valid_loss), str(accuracy), str(tn), str(fp), str(fn), str(tp), str(precision_0), str(precision_1), str(recall_0), str(recall_1), str(f1_0), str(f1_1), str(count_0), str(count_1), str(auroc), str(valid_loss <= valid_loss_min),'\\n'])\n",
    "      val_result.write(line)\n",
    "      \n",
    "\n",
    "        \n",
    "    # print training/validation statistics \n",
    "    print('Epoch: {} \\tTraining Loss: {:.6f} \\tValidation Loss: {:.6f}'.format(epoch, train_loss, valid_loss))\n",
    "    \n",
    "    \n",
    "    # save model if validation loss has decreased\n",
    "    if valid_loss <= valid_loss_min:\n",
    "        print('Validation loss decreased ({:.6f} --> {:.6f}).  Saving updated model ...'.format(valid_loss_min, valid_loss))\n",
    "        torch.save(model.state_dict(), model_folder+'/'+model_name+'.pt')\n",
    "        valid_loss_min = valid_loss"
   ]
  },
  {
   "cell_type": "code",
   "execution_count": 15,
   "metadata": {
    "colab": {
     "base_uri": "https://localhost:8080/"
    },
    "id": "UQVQDPG31HLT",
    "outputId": "c3e04d81-e3a4-4dcf-d33d-93e1888060b3"
   },
   "outputs": [
    {
     "name": "stdout",
     "output_type": "stream",
     "text": [
      "Results in ./results/week10/uk_notuk_classifier_aug_naive_test.csv\n",
      "Test Accuracy: 71.253218%\n"
     ]
    }
   ],
   "source": [
    "#testing model\n",
    "model.load_state_dict(torch.load(model_folder+'/'+model_name+'.pt'))\n",
    "\n",
    "model.eval()\n",
    "test_accuracy = 0.0\n",
    "\n",
    "y_pred, y_target = np.array([]), np.array([])\n",
    "\n",
    "test_results = results_folder+model_name+'_test.csv'\n",
    "\n",
    "with torch.no_grad():\n",
    "  for test_images, test_labels in test_loader:\n",
    "      test_images, test_labels = test_images.to(device), test_labels.to(device)\n",
    "      out = model(test_images)\n",
    "      predictions = torch.exp(out)\n",
    "      \n",
    "      _, top_classes = predictions.topk(1,dim=1)\n",
    "\n",
    "      y_target = np.concatenate((y_target,test_labels.cpu()))\n",
    "      y_pred = np.concatenate((y_pred,top_classes.squeeze(1).cpu()))\n",
    "      \n",
    "\n",
    "with open(test_results, 'a') as test_result:\n",
    "  header = \",\".join(['accuracy', 'tn', 'fp', 'fn', 'tp', 'precision_0', 'precision_1', 'recall_0', 'recall_1', 'f1_0', 'f1_1', 'count_0', 'count_1','auroc','\\n'])\n",
    "  a, b = confusion_matrix(y_target, y_pred)\n",
    "  tn, fp, fn, tp = *a, *b\n",
    "  precision, recall, f1, support = precision_recall_fscore_support(y_target, y_pred)\n",
    "  precision_0, precision_1, recall_0, recall_1, f1_0, f1_1, count_0, count_1 = *precision, *recall, *f1, *support\n",
    "  accuracy = accuracy_score(y_target, y_pred)\n",
    "  auroc = roc_auc_score(y_target, y_pred)\n",
    "  line = \",\".join([str(accuracy), str(tn), str(fp), str(fn), str(tp), str(precision_0), str(precision_1), str(recall_0), str(recall_1), str(f1_0), str(f1_1), str(count_0), str(count_1), str(auroc), '\\n'])\n",
    "  test_result.write(header)\n",
    "  test_result.write(line)\n",
    "  print(f\"Results in {test_results}\")\n",
    "\n",
    "print(f'Test Accuracy: {accuracy*100:.6f}%')"
   ]
  },
  {
   "cell_type": "code",
   "execution_count": null,
   "metadata": {},
   "outputs": [],
   "source": []
  }
 ],
 "metadata": {
  "accelerator": "GPU",
  "colab": {
   "collapsed_sections": [],
   "name": "Classification with Grad-CAM",
   "provenance": []
  },
  "kernelspec": {
   "display_name": "Python 3",
   "language": "python",
   "name": "python3"
  },
  "language_info": {
   "codemirror_mode": {
    "name": "ipython",
    "version": 3
   },
   "file_extension": ".py",
   "mimetype": "text/x-python",
   "name": "python",
   "nbconvert_exporter": "python",
   "pygments_lexer": "ipython3",
   "version": "3.8.3"
  }
 },
 "nbformat": 4,
 "nbformat_minor": 1
}
